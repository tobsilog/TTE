{
  "cells": [
    {
      "cell_type": "markdown",
      "metadata": {
        "colab_type": "text",
        "id": "view-in-github"
      },
      "source": [
        "<a href=\"https://colab.research.google.com/github/tobsilog/TTE/blob/main/TTE__(1).ipynb\" target=\"_parent\"><img src=\"https://colab.research.google.com/assets/colab-badge.svg\" alt=\"Open In Colab\"/></a>"
      ]
    },
    {
      "cell_type": "markdown",
      "metadata": {
        "id": "SgbXN_J5znuJ"
      },
      "source": [
        "INSTRUCTIONS\n",
        "\n",
        "Assignment 1 for Clustering:\n",
        "New and novel methods in Machine Learning are made either by borrowing formulas and concepts from other scientific fields and redefining it based on new sets of assumptions, or by adding an extra step to an already existing framework of methodology.\n",
        "\n",
        "In this exercise (Assignment 1 of the Clustering Topic), we will try to develop a novel method of Target Trial Emulation by integrating concepts of Clustering into the already existing framework. Target Trial Emulation is a new methodological framework in epidemiology which tries to account for the biases in old and traditional designs.\n",
        "\n",
        "These are the instructions:\n",
        "1. Look at this website: https://rpubs.com/alanyang0924/TTE\n",
        "2. Extract the dummy data in the package and save it as \"data_censored.csv\"\n",
        "2. Convert the R codes into Python Codes (use Jupyter Notebook), replicate the results using your python code.\n",
        "3. Create another copy of your Python Codes, name it TTE-v2 (use Jupyter Notebook).\n",
        "4. Using TTE-v2, think of a creative way on where you would integrate a clustering mechanism, understand each step carefully and decide at which step a clustering method can be implemented. Generate insights from your results.\n",
        "5. Do this by pair, preferably your thesis partner.\n",
        "6. Push to your github repository.\n",
        "7. Deadline is: March 9,  2025 at 11:59 pm.\n",
        "\n",
        "HINT: For those who dont have a thesis topic yet, you can actually develop a thesis topic out of this assignment."
      ]
    },
    {
      "cell_type": "markdown",
      "metadata": {
        "id": "ZVMINpGiInoO"
      },
      "source": [
        "#Objectives\n",
        "\n",
        "- Understand Target Trial Emulation: Learn how to apply TTE methodology in Python.\n",
        "\n",
        "- Data Preprocessing: Clean and prepare data for analysis.\n",
        "\n",
        "- Apply Inverse Probability Weighting (IPW): Adjust for confounding and censoring using statistical weighting methods.\n",
        "\n",
        "- Implement Survival Analysis Models: Utilize Kaplan-Meier estimation and Cox proportional hazards modeling.\n",
        "\n",
        "- Interpret Results: Analyze survival curves and hazard ratios to draw meaningful conclusions."
      ]
    },
    {
      "cell_type": "markdown",
      "metadata": {
        "id": "4w-pEdzYHuL6"
      },
      "source": [
        "#  Setup"
      ]
    },
    {
      "cell_type": "markdown",
      "metadata": {
        "id": "XYu41tL2Ejp2"
      },
      "source": [
        "Libraries"
      ]
    },
    {
      "cell_type": "code",
      "execution_count": 1,
      "metadata": {
        "colab": {
          "base_uri": "https://localhost:8080/"
        },
        "id": "rqHjGWejEjp3",
        "outputId": "8f808bad-7426-4de2-df9e-c55e1187da47"
      },
      "outputs": [
        {
          "name": "stdout",
          "output_type": "stream",
          "text": [
            "Requirement already satisfied: lifelines in d:\\apps\\python\\lib\\site-packages (0.30.0)\n",
            "Requirement already satisfied: statsmodels in d:\\apps\\python\\lib\\site-packages (0.14.4)\n",
            "Requirement already satisfied: pandas in d:\\apps\\python\\lib\\site-packages (2.2.3)\n",
            "Requirement already satisfied: numpy in c:\\users\\jean\\appdata\\roaming\\python\\python312\\site-packages (1.26.4)\n",
            "Requirement already satisfied: matplotlib in c:\\users\\jean\\appdata\\roaming\\python\\python312\\site-packages (3.8.4)\n",
            "Requirement already satisfied: seaborn in d:\\apps\\python\\lib\\site-packages (0.13.2)\n",
            "Requirement already satisfied: scikit-learn in d:\\apps\\python\\lib\\site-packages (1.5.2)\n",
            "Requirement already satisfied: scipy>=1.7.0 in d:\\apps\\python\\lib\\site-packages (from lifelines) (1.15.2)\n",
            "Requirement already satisfied: autograd>=1.5 in d:\\apps\\python\\lib\\site-packages (from lifelines) (1.7.0)\n",
            "Requirement already satisfied: autograd-gamma>=0.3 in d:\\apps\\python\\lib\\site-packages (from lifelines) (0.5.0)\n",
            "Requirement already satisfied: formulaic>=0.2.2 in d:\\apps\\python\\lib\\site-packages (from lifelines) (1.1.1)\n",
            "Requirement already satisfied: patsy>=0.5.6 in d:\\apps\\python\\lib\\site-packages (from statsmodels) (1.0.1)\n",
            "Requirement already satisfied: packaging>=21.3 in c:\\users\\jean\\appdata\\roaming\\python\\python312\\site-packages (from statsmodels) (24.0)\n",
            "Requirement already satisfied: python-dateutil>=2.8.2 in c:\\users\\jean\\appdata\\roaming\\python\\python312\\site-packages (from pandas) (2.9.0.post0)\n",
            "Requirement already satisfied: pytz>=2020.1 in d:\\apps\\python\\lib\\site-packages (from pandas) (2025.1)\n",
            "Requirement already satisfied: tzdata>=2022.7 in d:\\apps\\python\\lib\\site-packages (from pandas) (2025.1)\n",
            "Requirement already satisfied: contourpy>=1.0.1 in c:\\users\\jean\\appdata\\roaming\\python\\python312\\site-packages (from matplotlib) (1.2.1)\n",
            "Requirement already satisfied: cycler>=0.10 in c:\\users\\jean\\appdata\\roaming\\python\\python312\\site-packages (from matplotlib) (0.12.1)\n",
            "Requirement already satisfied: fonttools>=4.22.0 in c:\\users\\jean\\appdata\\roaming\\python\\python312\\site-packages (from matplotlib) (4.51.0)\n",
            "Requirement already satisfied: kiwisolver>=1.3.1 in c:\\users\\jean\\appdata\\roaming\\python\\python312\\site-packages (from matplotlib) (1.4.5)\n",
            "Requirement already satisfied: pillow>=8 in c:\\users\\jean\\appdata\\roaming\\python\\python312\\site-packages (from matplotlib) (10.3.0)\n",
            "Requirement already satisfied: pyparsing>=2.3.1 in c:\\users\\jean\\appdata\\roaming\\python\\python312\\site-packages (from matplotlib) (3.1.2)\n",
            "Requirement already satisfied: joblib>=1.2.0 in d:\\apps\\python\\lib\\site-packages (from scikit-learn) (1.4.2)\n",
            "Requirement already satisfied: threadpoolctl>=3.1.0 in d:\\apps\\python\\lib\\site-packages (from scikit-learn) (3.5.0)\n",
            "Requirement already satisfied: interface-meta>=1.2.0 in d:\\apps\\python\\lib\\site-packages (from formulaic>=0.2.2->lifelines) (1.3.0)\n",
            "Requirement already satisfied: typing-extensions>=4.2.0 in d:\\apps\\python\\lib\\site-packages (from formulaic>=0.2.2->lifelines) (4.12.2)\n",
            "Requirement already satisfied: wrapt>=1.0 in d:\\apps\\python\\lib\\site-packages (from formulaic>=0.2.2->lifelines) (1.17.2)\n",
            "Requirement already satisfied: six>=1.5 in c:\\users\\jean\\appdata\\roaming\\python\\python312\\site-packages (from python-dateutil>=2.8.2->pandas) (1.16.0)\n"
          ]
        }
      ],
      "source": [
        "# Install necessary libraries (if not already installed)\n",
        "!pip install lifelines statsmodels pandas numpy matplotlib seaborn scikit-learn\n",
        "\n",
        "# Import required packages\n",
        "import numpy as np\n",
        "import pandas as pd\n",
        "import statsmodels.api as sm\n",
        "from lifelines import KaplanMeierFitter, CoxPHFitter\n",
        "import matplotlib.pyplot as plt\n",
        "import seaborn as sns\n",
        "from sklearn.linear_model import LogisticRegression\n",
        "\n",
        "\n",
        "# Set random seed for reproducibility\n",
        "np.random.seed(42)"
      ]
    },
    {
      "cell_type": "markdown",
      "metadata": {
        "id": "gMrdREgMEjp3"
      },
      "source": [
        "#  Data Preparation"
      ]
    },
    {
      "cell_type": "code",
      "execution_count": 2,
      "metadata": {
        "colab": {
          "base_uri": "https://localhost:8080/"
        },
        "id": "w7az4oteMgop",
        "outputId": "f9b08afe-55d7-40bf-c57a-4881245b2e0b"
      },
      "outputs": [
        {
          "name": "stdout",
          "output_type": "stream",
          "text": [
            "Preview of the data_censored dataset:\n",
            "   id  period  treatment  x1        x2  x3        x4  age     age_s  outcome  \\\n",
            "0   1       0          1   1  1.146148   0  0.734203   36  0.083333        0   \n",
            "1   1       1          1   1  0.002200   0  0.734203   37  0.166667        0   \n",
            "2   1       2          1   0 -0.481762   0  0.734203   38  0.250000        0   \n",
            "3   1       3          1   0  0.007872   0  0.734203   39  0.333333        0   \n",
            "4   1       4          1   1  0.216054   0  0.734203   40  0.416667        0   \n",
            "\n",
            "   censored  eligible  \n",
            "0         0         1  \n",
            "1         0         0  \n",
            "2         0         0  \n",
            "3         0         0  \n",
            "4         0         0  \n",
            "\n",
            "Per-Protocol (PP) Trial Dataset:\n",
            "   id  period  treatment  x1        x2  x3        x4  age     age_s  outcome  \\\n",
            "0   1       0          1   1  1.146148   0  0.734203   36  0.083333        0   \n",
            "1   1       1          1   1  0.002200   0  0.734203   37  0.166667        0   \n",
            "2   1       2          1   0 -0.481762   0  0.734203   38  0.250000        0   \n",
            "3   1       3          1   0  0.007872   0  0.734203   39  0.333333        0   \n",
            "4   1       4          1   1  0.216054   0  0.734203   40  0.416667        0   \n",
            "\n",
            "   censored  eligible  \n",
            "0         0         1  \n",
            "1         0         0  \n",
            "2         0         0  \n",
            "3         0         0  \n",
            "4         0         0  \n",
            "\n",
            "Intention-to-Treat (ITT) Trial Dataset:\n",
            "   id  period  treatment  x1        x2  x3        x4  age     age_s  outcome  \\\n",
            "0   1       0          1   1  1.146148   0  0.734203   36  0.083333        0   \n",
            "1   1       1          1   1  0.002200   0  0.734203   37  0.166667        0   \n",
            "2   1       2          1   0 -0.481762   0  0.734203   38  0.250000        0   \n",
            "3   1       3          1   0  0.007872   0  0.734203   39  0.333333        0   \n",
            "4   1       4          1   1  0.216054   0  0.734203   40  0.416667        0   \n",
            "\n",
            "   censored  eligible  \n",
            "0         0         1  \n",
            "1         0         0  \n",
            "2         0         0  \n",
            "3         0         0  \n",
            "4         0         0  \n"
          ]
        }
      ],
      "source": [
        "# Load the dataset properly from the URL\n",
        "data_url = 'https://raw.githubusercontent.com/tobsilog/TTE/main/dataset/data_censored.csv'\n",
        "\n",
        "# Load the dataset with proper handling of quotes\n",
        "df = pd.read_csv(data_url, sep=\",\", quotechar='\"')\n",
        "\n",
        "# Display the first few rows\n",
        "print(\"Preview of the data_censored dataset:\")\n",
        "print(df.head())\n",
        "\n",
        "# Function to structure the dataset similar to R's set_data function\n",
        "def prepare_trial_data(df, id_col, period_col, treatment_col, outcome_col, eligible_col):\n",
        "    \"\"\"\n",
        "    Prepares and structures the dataset by selecting key columns\n",
        "    and renaming them for consistency.\n",
        "    \"\"\"\n",
        "    trial_data = {\n",
        "        'data': df.copy(),\n",
        "        'id': id_col,\n",
        "        'period': period_col,\n",
        "        'treatment': treatment_col,\n",
        "        'outcome': outcome_col,\n",
        "        'eligible': eligible_col\n",
        "    }\n",
        "    return trial_data\n",
        "\n",
        "# Generate datasets for both Per-Protocol (PP) and Intention-to-Treat (ITT) analysis\n",
        "trial_pp = prepare_trial_data(df, id_col=\"id\", period_col=\"period\",\n",
        "                              treatment_col=\"treatment\", outcome_col=\"outcome\", eligible_col=\"eligible\")\n",
        "\n",
        "trial_itt = prepare_trial_data(df, id_col=\"id\", period_col=\"period\",\n",
        "                               treatment_col=\"treatment\", outcome_col=\"outcome\", eligible_col=\"eligible\")\n",
        "\n",
        "# Display a preview of both trial datasets\n",
        "print(\"\\nPer-Protocol (PP) Trial Dataset:\")\n",
        "print(trial_pp['data'].head())\n",
        "\n",
        "print(\"\\nIntention-to-Treat (ITT) Trial Dataset:\")\n",
        "print(trial_itt['data'].head())\n"
      ]
    },
    {
      "cell_type": "markdown",
      "metadata": {
        "id": "WgoJ0kzeEjp5"
      },
      "source": [
        "#  Weight Models and censoring"
      ]
    },
    {
      "cell_type": "code",
      "execution_count": 3,
      "metadata": {
        "id": "YQY_0huHEjp5"
      },
      "outputs": [],
      "source": [
        "# Define censoring weight model\n",
        "df['censored'] = df['censored'].astype(int)\n",
        "covariates = ['age', 'treatment', 'x1', 'x2', 'x3', 'x4']  # Adjust based on dataset columns\n",
        "\n",
        "# Fit logistic regression to predict censoring\n",
        "censor_model = LogisticRegression()\n",
        "censor_model.fit(df[covariates], df['censored'])\n",
        "\n",
        "# Compute inverse probability of censoring weights (IPCW)\n",
        "df['ipcw'] = 1 / censor_model.predict_proba(df[covariates])[:, 1]"
      ]
    },
    {
      "cell_type": "markdown",
      "metadata": {
        "id": "p5DM5YGqJUQH"
      },
      "source": [
        "- IPCW accounts for potential biases caused by loss to follow-up.\n",
        "\n",
        "- Logistic regression models the probability of an individual being censored."
      ]
    },
    {
      "cell_type": "markdown",
      "metadata": {
        "id": "yU3YCWayJeuF"
      },
      "source": [
        "#Treatment Weight Calculation (Inverse Probability of Treatment Weighting - IPTW)"
      ]
    },
    {
      "cell_type": "code",
      "execution_count": 4,
      "metadata": {
        "id": "wPnJQNzvJh4w"
      },
      "outputs": [],
      "source": [
        "# Fit logistic regression for treatment assignment\n",
        "treatment_model = LogisticRegression()\n",
        "treatment_model.fit(df[covariates], df['treatment'])\n",
        "\n",
        "# Compute IPTW\n",
        "df['iptw'] = 1 / treatment_model.predict_proba(df[covariates])[:, 1]\n"
      ]
    },
    {
      "cell_type": "markdown",
      "metadata": {
        "id": "wnQLzjARJl_h"
      },
      "source": [
        "- IPTW balances the treatment groups, mimicking randomization.\n",
        "\n",
        "- Correct weighting reduces confounding bias, improving causal inference."
      ]
    },
    {
      "cell_type": "code",
      "execution_count": 5,
      "metadata": {
        "colab": {
          "base_uri": "https://localhost:8080/"
        },
        "id": "y_Si2rT0TRPv",
        "outputId": "664164cd-42d0-418b-f1ff-ca2a240066d0"
      },
      "outputs": [
        {
          "name": "stdout",
          "output_type": "stream",
          "text": [
            "Highly correlated features: {'age_s'}\n"
          ]
        }
      ],
      "source": [
        "# Compute correlation matrix\n",
        "corr_matrix = df.corr().abs()\n",
        "\n",
        "# Identify features with high correlation (>0.9)\n",
        "high_corr_features = set()\n",
        "for i in range(len(corr_matrix.columns)):\n",
        "    for j in range(i):\n",
        "        if corr_matrix.iloc[i, j] > 0.9:\n",
        "            colname = corr_matrix.columns[i]\n",
        "            high_corr_features.add(colname)\n",
        "\n",
        "# Print correlated features\n",
        "print(\"Highly correlated features:\", high_corr_features)\n"
      ]
    },
    {
      "cell_type": "code",
      "execution_count": 6,
      "metadata": {
        "id": "pcFdaj1YTTUr"
      },
      "outputs": [],
      "source": [
        "df = df.drop(columns=high_corr_features, errors='ignore')\n"
      ]
    },
    {
      "cell_type": "markdown",
      "metadata": {
        "id": "Dv7C7AzWJq5Q"
      },
      "source": [
        "#Fit Marginal Structural Model (MSM)"
      ]
    },
    {
      "cell_type": "code",
      "execution_count": 7,
      "metadata": {
        "colab": {
          "base_uri": "https://localhost:8080/",
          "height": 819
        },
        "id": "kDfbAdvoJzEj",
        "outputId": "e340911e-4b5e-4b07-813e-ae0cf02c6ea1"
      },
      "outputs": [
        {
          "data": {
            "text/html": [
              "<div>\n",
              "<style scoped>\n",
              "    .dataframe tbody tr th:only-of-type {\n",
              "        vertical-align: middle;\n",
              "    }\n",
              "\n",
              "    .dataframe tbody tr th {\n",
              "        vertical-align: top;\n",
              "    }\n",
              "\n",
              "    .dataframe thead th {\n",
              "        text-align: right;\n",
              "    }\n",
              "</style>\n",
              "<table border=\"1\" class=\"dataframe\">\n",
              "  <tbody>\n",
              "    <tr>\n",
              "      <th>model</th>\n",
              "      <td>lifelines.CoxPHFitter</td>\n",
              "    </tr>\n",
              "    <tr>\n",
              "      <th>duration col</th>\n",
              "      <td>'period'</td>\n",
              "    </tr>\n",
              "    <tr>\n",
              "      <th>event col</th>\n",
              "      <td>'outcome'</td>\n",
              "    </tr>\n",
              "    <tr>\n",
              "      <th>weights col</th>\n",
              "      <td>'ipcw'</td>\n",
              "    </tr>\n",
              "    <tr>\n",
              "      <th>robust variance</th>\n",
              "      <td>True</td>\n",
              "    </tr>\n",
              "    <tr>\n",
              "      <th>baseline estimation</th>\n",
              "      <td>breslow</td>\n",
              "    </tr>\n",
              "    <tr>\n",
              "      <th>number of observations</th>\n",
              "      <td>45918.8</td>\n",
              "    </tr>\n",
              "    <tr>\n",
              "      <th>number of events observed</th>\n",
              "      <td>921.589</td>\n",
              "    </tr>\n",
              "    <tr>\n",
              "      <th>partial log-likelihood</th>\n",
              "      <td>-6615.55</td>\n",
              "    </tr>\n",
              "    <tr>\n",
              "      <th>time fit was run</th>\n",
              "      <td>2025-03-09 14:41:09 UTC</td>\n",
              "    </tr>\n",
              "  </tbody>\n",
              "</table>\n",
              "</div><table border=\"1\" class=\"dataframe\">\n",
              "  <thead>\n",
              "    <tr style=\"text-align: right;\">\n",
              "      <th style=\"min-width: 12px;\"></th>\n",
              "      <th style=\"min-width: 12px;\">coef</th>\n",
              "      <th style=\"min-width: 12px;\">exp(coef)</th>\n",
              "      <th style=\"min-width: 12px;\">se(coef)</th>\n",
              "      <th style=\"min-width: 12px;\">coef lower 95%</th>\n",
              "      <th style=\"min-width: 12px;\">coef upper 95%</th>\n",
              "      <th style=\"min-width: 12px;\">exp(coef) lower 95%</th>\n",
              "      <th style=\"min-width: 12px;\">exp(coef) upper 95%</th>\n",
              "      <th style=\"min-width: 12px;\">cmp to</th>\n",
              "      <th style=\"min-width: 12px;\">z</th>\n",
              "      <th style=\"min-width: 12px;\">p</th>\n",
              "      <th style=\"min-width: 12px;\">-log2(p)</th>\n",
              "    </tr>\n",
              "  </thead>\n",
              "  <tbody>\n",
              "    <tr>\n",
              "      <th>id</th>\n",
              "      <td>0.04</td>\n",
              "      <td>1.04</td>\n",
              "      <td>0.02</td>\n",
              "      <td>0.00</td>\n",
              "      <td>0.07</td>\n",
              "      <td>1.00</td>\n",
              "      <td>1.08</td>\n",
              "      <td>0.00</td>\n",
              "      <td>2.12</td>\n",
              "      <td>0.03</td>\n",
              "      <td>4.89</td>\n",
              "    </tr>\n",
              "    <tr>\n",
              "      <th>treatment</th>\n",
              "      <td>-5.12</td>\n",
              "      <td>0.01</td>\n",
              "      <td>1.46</td>\n",
              "      <td>-7.97</td>\n",
              "      <td>-2.27</td>\n",
              "      <td>0.00</td>\n",
              "      <td>0.10</td>\n",
              "      <td>0.00</td>\n",
              "      <td>-3.52</td>\n",
              "      <td>&lt;0.005</td>\n",
              "      <td>11.17</td>\n",
              "    </tr>\n",
              "    <tr>\n",
              "      <th>x1</th>\n",
              "      <td>-2.03</td>\n",
              "      <td>0.13</td>\n",
              "      <td>0.57</td>\n",
              "      <td>-3.15</td>\n",
              "      <td>-0.91</td>\n",
              "      <td>0.04</td>\n",
              "      <td>0.40</td>\n",
              "      <td>0.00</td>\n",
              "      <td>-3.54</td>\n",
              "      <td>&lt;0.005</td>\n",
              "      <td>11.31</td>\n",
              "    </tr>\n",
              "    <tr>\n",
              "      <th>x2</th>\n",
              "      <td>-0.04</td>\n",
              "      <td>0.96</td>\n",
              "      <td>0.33</td>\n",
              "      <td>-0.69</td>\n",
              "      <td>0.61</td>\n",
              "      <td>0.50</td>\n",
              "      <td>1.84</td>\n",
              "      <td>0.00</td>\n",
              "      <td>-0.12</td>\n",
              "      <td>0.91</td>\n",
              "      <td>0.14</td>\n",
              "    </tr>\n",
              "    <tr>\n",
              "      <th>x3</th>\n",
              "      <td>2.85</td>\n",
              "      <td>17.33</td>\n",
              "      <td>0.96</td>\n",
              "      <td>0.97</td>\n",
              "      <td>4.73</td>\n",
              "      <td>2.64</td>\n",
              "      <td>113.74</td>\n",
              "      <td>0.00</td>\n",
              "      <td>2.97</td>\n",
              "      <td>&lt;0.005</td>\n",
              "      <td>8.40</td>\n",
              "    </tr>\n",
              "    <tr>\n",
              "      <th>x4</th>\n",
              "      <td>1.59</td>\n",
              "      <td>4.88</td>\n",
              "      <td>0.51</td>\n",
              "      <td>0.59</td>\n",
              "      <td>2.58</td>\n",
              "      <td>1.80</td>\n",
              "      <td>13.25</td>\n",
              "      <td>0.00</td>\n",
              "      <td>3.11</td>\n",
              "      <td>&lt;0.005</td>\n",
              "      <td>9.07</td>\n",
              "    </tr>\n",
              "    <tr>\n",
              "      <th>age</th>\n",
              "      <td>0.13</td>\n",
              "      <td>1.14</td>\n",
              "      <td>0.05</td>\n",
              "      <td>0.03</td>\n",
              "      <td>0.23</td>\n",
              "      <td>1.03</td>\n",
              "      <td>1.26</td>\n",
              "      <td>0.00</td>\n",
              "      <td>2.50</td>\n",
              "      <td>0.01</td>\n",
              "      <td>6.32</td>\n",
              "    </tr>\n",
              "    <tr>\n",
              "      <th>censored</th>\n",
              "      <td>2.55</td>\n",
              "      <td>12.80</td>\n",
              "      <td>1.73</td>\n",
              "      <td>-0.84</td>\n",
              "      <td>5.94</td>\n",
              "      <td>0.43</td>\n",
              "      <td>378.17</td>\n",
              "      <td>0.00</td>\n",
              "      <td>1.48</td>\n",
              "      <td>0.14</td>\n",
              "      <td>2.84</td>\n",
              "    </tr>\n",
              "    <tr>\n",
              "      <th>eligible</th>\n",
              "      <td>-0.14</td>\n",
              "      <td>0.87</td>\n",
              "      <td>1.43</td>\n",
              "      <td>-2.95</td>\n",
              "      <td>2.67</td>\n",
              "      <td>0.05</td>\n",
              "      <td>14.44</td>\n",
              "      <td>0.00</td>\n",
              "      <td>-0.10</td>\n",
              "      <td>0.92</td>\n",
              "      <td>0.12</td>\n",
              "    </tr>\n",
              "    <tr>\n",
              "      <th>iptw</th>\n",
              "      <td>-0.06</td>\n",
              "      <td>0.95</td>\n",
              "      <td>0.02</td>\n",
              "      <td>-0.09</td>\n",
              "      <td>-0.03</td>\n",
              "      <td>0.92</td>\n",
              "      <td>0.97</td>\n",
              "      <td>0.00</td>\n",
              "      <td>-3.70</td>\n",
              "      <td>&lt;0.005</td>\n",
              "      <td>12.18</td>\n",
              "    </tr>\n",
              "  </tbody>\n",
              "</table><br><div>\n",
              "<style scoped>\n",
              "    .dataframe tbody tr th:only-of-type {\n",
              "        vertical-align: middle;\n",
              "    }\n",
              "\n",
              "    .dataframe tbody tr th {\n",
              "        vertical-align: top;\n",
              "    }\n",
              "\n",
              "    .dataframe thead th {\n",
              "        text-align: right;\n",
              "    }\n",
              "</style>\n",
              "<table border=\"1\" class=\"dataframe\">\n",
              "  <tbody>\n",
              "    <tr>\n",
              "      <th>Concordance</th>\n",
              "      <td>0.75</td>\n",
              "    </tr>\n",
              "    <tr>\n",
              "      <th>Partial AIC</th>\n",
              "      <td>13251.10</td>\n",
              "    </tr>\n",
              "    <tr>\n",
              "      <th>log-likelihood ratio test</th>\n",
              "      <td>5379.15 on 10 df</td>\n",
              "    </tr>\n",
              "    <tr>\n",
              "      <th>-log2(p) of ll-ratio test</th>\n",
              "      <td>inf</td>\n",
              "    </tr>\n",
              "  </tbody>\n",
              "</table>\n",
              "</div>"
            ],
            "text/latex": [
              "\\begin{tabular}{lrrrrrrrrrrr}\n",
              " & coef & exp(coef) & se(coef) & coef lower 95% & coef upper 95% & exp(coef) lower 95% & exp(coef) upper 95% & cmp to & z & p & -log2(p) \\\\\n",
              "covariate &  &  &  &  &  &  &  &  &  &  &  \\\\\n",
              "id & 0.04 & 1.04 & 0.02 & 0.00 & 0.07 & 1.00 & 1.08 & 0.00 & 2.12 & 0.03 & 4.89 \\\\\n",
              "treatment & -5.12 & 0.01 & 1.46 & -7.97 & -2.27 & 0.00 & 0.10 & 0.00 & -3.52 & 0.00 & 11.17 \\\\\n",
              "x1 & -2.03 & 0.13 & 0.57 & -3.15 & -0.91 & 0.04 & 0.40 & 0.00 & -3.54 & 0.00 & 11.31 \\\\\n",
              "x2 & -0.04 & 0.96 & 0.33 & -0.69 & 0.61 & 0.50 & 1.84 & 0.00 & -0.12 & 0.91 & 0.14 \\\\\n",
              "x3 & 2.85 & 17.33 & 0.96 & 0.97 & 4.73 & 2.64 & 113.74 & 0.00 & 2.97 & 0.00 & 8.40 \\\\\n",
              "x4 & 1.59 & 4.88 & 0.51 & 0.59 & 2.58 & 1.80 & 13.25 & 0.00 & 3.11 & 0.00 & 9.07 \\\\\n",
              "age & 0.13 & 1.14 & 0.05 & 0.03 & 0.23 & 1.03 & 1.26 & 0.00 & 2.50 & 0.01 & 6.32 \\\\\n",
              "censored & 2.55 & 12.80 & 1.73 & -0.84 & 5.94 & 0.43 & 378.17 & 0.00 & 1.48 & 0.14 & 2.84 \\\\\n",
              "eligible & -0.14 & 0.87 & 1.43 & -2.95 & 2.67 & 0.05 & 14.44 & 0.00 & -0.10 & 0.92 & 0.12 \\\\\n",
              "iptw & -0.06 & 0.95 & 0.02 & -0.09 & -0.03 & 0.92 & 0.97 & 0.00 & -3.70 & 0.00 & 12.18 \\\\\n",
              "\\end{tabular}\n"
            ],
            "text/plain": [
              "<lifelines.CoxPHFitter: fitted with 45918.8 total observations, 44997.2 right-censored observations>\n",
              "             duration col = 'period'\n",
              "                event col = 'outcome'\n",
              "              weights col = 'ipcw'\n",
              "          robust variance = True\n",
              "      baseline estimation = breslow\n",
              "   number of observations = 45918.8\n",
              "number of events observed = 921.589\n",
              "   partial log-likelihood = -6615.55\n",
              "         time fit was run = 2025-03-09 14:41:09 UTC\n",
              "\n",
              "---\n",
              "           coef exp(coef)  se(coef)  coef lower 95%  coef upper 95% exp(coef) lower 95% exp(coef) upper 95%\n",
              "covariate                                                                                                  \n",
              "id         0.04      1.04      0.02            0.00            0.07                1.00                1.08\n",
              "treatment -5.12      0.01      1.46           -7.97           -2.27                0.00                0.10\n",
              "x1        -2.03      0.13      0.57           -3.15           -0.91                0.04                0.40\n",
              "x2        -0.04      0.96      0.33           -0.69            0.61                0.50                1.84\n",
              "x3         2.85     17.33      0.96            0.97            4.73                2.64              113.74\n",
              "x4         1.59      4.88      0.51            0.59            2.58                1.80               13.25\n",
              "age        0.13      1.14      0.05            0.03            0.23                1.03                1.26\n",
              "censored   2.55     12.80      1.73           -0.84            5.94                0.43              378.17\n",
              "eligible  -0.14      0.87      1.43           -2.95            2.67                0.05               14.44\n",
              "iptw      -0.06      0.95      0.02           -0.09           -0.03                0.92                0.97\n",
              "\n",
              "           cmp to     z      p  -log2(p)\n",
              "covariate                               \n",
              "id           0.00  2.12   0.03      4.89\n",
              "treatment    0.00 -3.52 <0.005     11.17\n",
              "x1           0.00 -3.54 <0.005     11.31\n",
              "x2           0.00 -0.12   0.91      0.14\n",
              "x3           0.00  2.97 <0.005      8.40\n",
              "x4           0.00  3.11 <0.005      9.07\n",
              "age          0.00  2.50   0.01      6.32\n",
              "censored     0.00  1.48   0.14      2.84\n",
              "eligible     0.00 -0.10   0.92      0.12\n",
              "iptw         0.00 -3.70 <0.005     12.18\n",
              "---\n",
              "Concordance = 0.75\n",
              "Partial AIC = 13251.10\n",
              "log-likelihood ratio test = 5379.15 on 10 df\n",
              "-log2(p) of ll-ratio test = inf"
            ]
          },
          "metadata": {},
          "output_type": "display_data"
        }
      ],
      "source": [
        "cox_model = CoxPHFitter()\n",
        "cox_model.fit(df, duration_col='period', event_col='outcome', weights_col='ipcw', robust=True)\n",
        "cox_model.print_summary()\n"
      ]
    },
    {
      "cell_type": "markdown",
      "metadata": {
        "id": "wscAwsWBJ1fm"
      },
      "source": [
        "- The Cox model estimates hazard ratios, showing the effect of treatment on survival.\n",
        "\n",
        "- The inclusion of IPCW ensures that the model accounts for censoring."
      ]
    },
    {
      "cell_type": "markdown",
      "metadata": {
        "id": "krko5WAxJ4JC"
      },
      "source": [
        "# Survival Analysis & Visualization"
      ]
    },
    {
      "cell_type": "markdown",
      "metadata": {
        "id": "7TA6mncAVjl9"
      },
      "source": [
        "# Kaplan-Meier Survival Analysis"
      ]
    },
    {
      "cell_type": "code",
      "execution_count": 8,
      "metadata": {
        "colab": {
          "base_uri": "https://localhost:8080/",
          "height": 564
        },
        "id": "jZX6PfWDJ5HP",
        "outputId": "990c22b4-4870-4de7-81a2-eb27d8949de1"
      },
      "outputs": [
        {
          "data": {
            "image/png": "[encoded data removed]",
            "text/plain": [
              "<Figure size 800x600 with 1 Axes>"
            ]
          },
          "metadata": {},
          "output_type": "display_data"
        }
      ],
      "source": [
        "kmf = KaplanMeierFitter()\n",
        "\n",
        "plt.figure(figsize=(8, 6))\n",
        "\n",
        "# Iterate through each treatment group and plot survival curves\n",
        "for treatment_group in df['treatment'].unique():\n",
        "    kmf.fit(\n",
        "        df[df['treatment'] == treatment_group]['period'],  # Time variable\n",
        "        df[df['treatment'] == treatment_group]['outcome'], # Event variable\n",
        "        label=f'Treatment {treatment_group}'\n",
        "    )\n",
        "    kmf.plot_survival_function()\n",
        "\n",
        "plt.title('Kaplan-Meier Survival Curves by Treatment Group')\n",
        "plt.xlabel('Follow-up Time')\n",
        "plt.ylabel('Survival Probability')\n",
        "plt.legend()\n",
        "plt.show()\n"
      ]
    },
    {
      "cell_type": "markdown",
      "metadata": {
        "id": "s6m3JD-8J9zA"
      },
      "source": [
        "- The Kaplan-Meier estimator provides a non-parametric estimate of survival probabilities.\n",
        "- Differences in survival curves suggest treatment effects, requiring further statistical validation."
      ]
    },
    {
      "cell_type": "markdown",
      "metadata": {
        "id": "-RVmp0FlVlK_"
      },
      "source": [
        "# Cox Proportional Hazards Model (Adjusted Survival)"
      ]
    },
    {
      "cell_type": "code",
      "execution_count": 9,
      "metadata": {
        "colab": {
          "base_uri": "https://localhost:8080/",
          "height": 1000
        },
        "id": "db8KzLSiVnj9",
        "outputId": "00df1a80-c131-4b95-ec0e-3e4843ff1543"
      },
      "outputs": [
        {
          "data": {
            "text/html": [
              "<div>\n",
              "<style scoped>\n",
              "    .dataframe tbody tr th:only-of-type {\n",
              "        vertical-align: middle;\n",
              "    }\n",
              "\n",
              "    .dataframe tbody tr th {\n",
              "        vertical-align: top;\n",
              "    }\n",
              "\n",
              "    .dataframe thead th {\n",
              "        text-align: right;\n",
              "    }\n",
              "</style>\n",
              "<table border=\"1\" class=\"dataframe\">\n",
              "  <tbody>\n",
              "    <tr>\n",
              "      <th>model</th>\n",
              "      <td>lifelines.CoxPHFitter</td>\n",
              "    </tr>\n",
              "    <tr>\n",
              "      <th>duration col</th>\n",
              "      <td>'period'</td>\n",
              "    </tr>\n",
              "    <tr>\n",
              "      <th>event col</th>\n",
              "      <td>'outcome'</td>\n",
              "    </tr>\n",
              "    <tr>\n",
              "      <th>robust variance</th>\n",
              "      <td>True</td>\n",
              "    </tr>\n",
              "    <tr>\n",
              "      <th>baseline estimation</th>\n",
              "      <td>breslow</td>\n",
              "    </tr>\n",
              "    <tr>\n",
              "      <th>number of observations</th>\n",
              "      <td>725</td>\n",
              "    </tr>\n",
              "    <tr>\n",
              "      <th>number of events observed</th>\n",
              "      <td>11</td>\n",
              "    </tr>\n",
              "    <tr>\n",
              "      <th>partial log-likelihood</th>\n",
              "      <td>-52.93</td>\n",
              "    </tr>\n",
              "    <tr>\n",
              "      <th>time fit was run</th>\n",
              "      <td>2025-03-09 14:41:10 UTC</td>\n",
              "    </tr>\n",
              "  </tbody>\n",
              "</table>\n",
              "</div><table border=\"1\" class=\"dataframe\">\n",
              "  <thead>\n",
              "    <tr style=\"text-align: right;\">\n",
              "      <th style=\"min-width: 12px;\"></th>\n",
              "      <th style=\"min-width: 12px;\">coef</th>\n",
              "      <th style=\"min-width: 12px;\">exp(coef)</th>\n",
              "      <th style=\"min-width: 12px;\">se(coef)</th>\n",
              "      <th style=\"min-width: 12px;\">coef lower 95%</th>\n",
              "      <th style=\"min-width: 12px;\">coef upper 95%</th>\n",
              "      <th style=\"min-width: 12px;\">exp(coef) lower 95%</th>\n",
              "      <th style=\"min-width: 12px;\">exp(coef) upper 95%</th>\n",
              "      <th style=\"min-width: 12px;\">cmp to</th>\n",
              "      <th style=\"min-width: 12px;\">z</th>\n",
              "      <th style=\"min-width: 12px;\">p</th>\n",
              "      <th style=\"min-width: 12px;\">-log2(p)</th>\n",
              "    </tr>\n",
              "  </thead>\n",
              "  <tbody>\n",
              "    <tr>\n",
              "      <th>treatment</th>\n",
              "      <td>-2.34</td>\n",
              "      <td>0.10</td>\n",
              "      <td>0.96</td>\n",
              "      <td>-4.23</td>\n",
              "      <td>-0.45</td>\n",
              "      <td>0.01</td>\n",
              "      <td>0.64</td>\n",
              "      <td>0.00</td>\n",
              "      <td>-2.43</td>\n",
              "      <td>0.02</td>\n",
              "      <td>6.04</td>\n",
              "    </tr>\n",
              "    <tr>\n",
              "      <th>x1</th>\n",
              "      <td>-0.22</td>\n",
              "      <td>0.80</td>\n",
              "      <td>0.75</td>\n",
              "      <td>-1.68</td>\n",
              "      <td>1.24</td>\n",
              "      <td>0.19</td>\n",
              "      <td>3.46</td>\n",
              "      <td>0.00</td>\n",
              "      <td>-0.29</td>\n",
              "      <td>0.77</td>\n",
              "      <td>0.38</td>\n",
              "    </tr>\n",
              "    <tr>\n",
              "      <th>x2</th>\n",
              "      <td>0.65</td>\n",
              "      <td>1.92</td>\n",
              "      <td>0.44</td>\n",
              "      <td>-0.21</td>\n",
              "      <td>1.52</td>\n",
              "      <td>0.81</td>\n",
              "      <td>4.55</td>\n",
              "      <td>0.00</td>\n",
              "      <td>1.47</td>\n",
              "      <td>0.14</td>\n",
              "      <td>2.83</td>\n",
              "    </tr>\n",
              "    <tr>\n",
              "      <th>x3</th>\n",
              "      <td>-0.06</td>\n",
              "      <td>0.94</td>\n",
              "      <td>0.95</td>\n",
              "      <td>-1.92</td>\n",
              "      <td>1.80</td>\n",
              "      <td>0.15</td>\n",
              "      <td>6.04</td>\n",
              "      <td>0.00</td>\n",
              "      <td>-0.06</td>\n",
              "      <td>0.95</td>\n",
              "      <td>0.07</td>\n",
              "    </tr>\n",
              "    <tr>\n",
              "      <th>x4</th>\n",
              "      <td>1.79</td>\n",
              "      <td>6.02</td>\n",
              "      <td>0.81</td>\n",
              "      <td>0.20</td>\n",
              "      <td>3.39</td>\n",
              "      <td>1.22</td>\n",
              "      <td>29.55</td>\n",
              "      <td>0.00</td>\n",
              "      <td>2.21</td>\n",
              "      <td>0.03</td>\n",
              "      <td>5.20</td>\n",
              "    </tr>\n",
              "    <tr>\n",
              "      <th>age</th>\n",
              "      <td>-0.03</td>\n",
              "      <td>0.97</td>\n",
              "      <td>0.05</td>\n",
              "      <td>-0.13</td>\n",
              "      <td>0.07</td>\n",
              "      <td>0.88</td>\n",
              "      <td>1.07</td>\n",
              "      <td>0.00</td>\n",
              "      <td>-0.62</td>\n",
              "      <td>0.54</td>\n",
              "      <td>0.90</td>\n",
              "    </tr>\n",
              "    <tr>\n",
              "      <th>ipcw</th>\n",
              "      <td>0.00</td>\n",
              "      <td>1.00</td>\n",
              "      <td>0.00</td>\n",
              "      <td>0.00</td>\n",
              "      <td>0.01</td>\n",
              "      <td>1.00</td>\n",
              "      <td>1.01</td>\n",
              "      <td>0.00</td>\n",
              "      <td>1.97</td>\n",
              "      <td>0.05</td>\n",
              "      <td>4.35</td>\n",
              "    </tr>\n",
              "    <tr>\n",
              "      <th>iptw</th>\n",
              "      <td>0.01</td>\n",
              "      <td>1.01</td>\n",
              "      <td>0.03</td>\n",
              "      <td>-0.05</td>\n",
              "      <td>0.08</td>\n",
              "      <td>0.95</td>\n",
              "      <td>1.08</td>\n",
              "      <td>0.00</td>\n",
              "      <td>0.35</td>\n",
              "      <td>0.73</td>\n",
              "      <td>0.46</td>\n",
              "    </tr>\n",
              "  </tbody>\n",
              "</table><br><div>\n",
              "<style scoped>\n",
              "    .dataframe tbody tr th:only-of-type {\n",
              "        vertical-align: middle;\n",
              "    }\n",
              "\n",
              "    .dataframe tbody tr th {\n",
              "        vertical-align: top;\n",
              "    }\n",
              "\n",
              "    .dataframe thead th {\n",
              "        text-align: right;\n",
              "    }\n",
              "</style>\n",
              "<table border=\"1\" class=\"dataframe\">\n",
              "  <tbody>\n",
              "    <tr>\n",
              "      <th>Concordance</th>\n",
              "      <td>0.89</td>\n",
              "    </tr>\n",
              "    <tr>\n",
              "      <th>Partial AIC</th>\n",
              "      <td>121.86</td>\n",
              "    </tr>\n",
              "    <tr>\n",
              "      <th>log-likelihood ratio test</th>\n",
              "      <td>22.75 on 8 df</td>\n",
              "    </tr>\n",
              "    <tr>\n",
              "      <th>-log2(p) of ll-ratio test</th>\n",
              "      <td>8.08</td>\n",
              "    </tr>\n",
              "  </tbody>\n",
              "</table>\n",
              "</div>"
            ],
            "text/latex": [
              "\\begin{tabular}{lrrrrrrrrrrr}\n",
              " & coef & exp(coef) & se(coef) & coef lower 95% & coef upper 95% & exp(coef) lower 95% & exp(coef) upper 95% & cmp to & z & p & -log2(p) \\\\\n",
              "covariate &  &  &  &  &  &  &  &  &  &  &  \\\\\n",
              "treatment & -2.34 & 0.10 & 0.96 & -4.23 & -0.45 & 0.01 & 0.64 & 0.00 & -2.43 & 0.02 & 6.04 \\\\\n",
              "x1 & -0.22 & 0.80 & 0.75 & -1.68 & 1.24 & 0.19 & 3.46 & 0.00 & -0.29 & 0.77 & 0.38 \\\\\n",
              "x2 & 0.65 & 1.92 & 0.44 & -0.21 & 1.52 & 0.81 & 4.55 & 0.00 & 1.47 & 0.14 & 2.83 \\\\\n",
              "x3 & -0.06 & 0.94 & 0.95 & -1.92 & 1.80 & 0.15 & 6.04 & 0.00 & -0.06 & 0.95 & 0.07 \\\\\n",
              "x4 & 1.79 & 6.02 & 0.81 & 0.20 & 3.39 & 1.22 & 29.55 & 0.00 & 2.21 & 0.03 & 5.20 \\\\\n",
              "age & -0.03 & 0.97 & 0.05 & -0.13 & 0.07 & 0.88 & 1.07 & 0.00 & -0.62 & 0.54 & 0.90 \\\\\n",
              "ipcw & 0.00 & 1.00 & 0.00 & 0.00 & 0.01 & 1.00 & 1.01 & 0.00 & 1.97 & 0.05 & 4.35 \\\\\n",
              "iptw & 0.01 & 1.01 & 0.03 & -0.05 & 0.08 & 0.95 & 1.08 & 0.00 & 0.35 & 0.73 & 0.46 \\\\\n",
              "\\end{tabular}\n"
            ],
            "text/plain": [
              "<lifelines.CoxPHFitter: fitted with 725 total observations, 714 right-censored observations>\n",
              "             duration col = 'period'\n",
              "                event col = 'outcome'\n",
              "          robust variance = True\n",
              "      baseline estimation = breslow\n",
              "   number of observations = 725\n",
              "number of events observed = 11\n",
              "   partial log-likelihood = -52.93\n",
              "         time fit was run = 2025-03-09 14:41:10 UTC\n",
              "\n",
              "---\n",
              "           coef exp(coef)  se(coef)  coef lower 95%  coef upper 95% exp(coef) lower 95% exp(coef) upper 95%\n",
              "covariate                                                                                                  \n",
              "treatment -2.34      0.10      0.96           -4.23           -0.45                0.01                0.64\n",
              "x1        -0.22      0.80      0.75           -1.68            1.24                0.19                3.46\n",
              "x2         0.65      1.92      0.44           -0.21            1.52                0.81                4.55\n",
              "x3        -0.06      0.94      0.95           -1.92            1.80                0.15                6.04\n",
              "x4         1.79      6.02      0.81            0.20            3.39                1.22               29.55\n",
              "age       -0.03      0.97      0.05           -0.13            0.07                0.88                1.07\n",
              "ipcw       0.00      1.00      0.00            0.00            0.01                1.00                1.01\n",
              "iptw       0.01      1.01      0.03           -0.05            0.08                0.95                1.08\n",
              "\n",
              "           cmp to     z    p  -log2(p)\n",
              "covariate                             \n",
              "treatment    0.00 -2.43 0.02      6.04\n",
              "x1           0.00 -0.29 0.77      0.38\n",
              "x2           0.00  1.47 0.14      2.83\n",
              "x3           0.00 -0.06 0.95      0.07\n",
              "x4           0.00  2.21 0.03      5.20\n",
              "age          0.00 -0.62 0.54      0.90\n",
              "ipcw         0.00  1.97 0.05      4.35\n",
              "iptw         0.00  0.35 0.73      0.46\n",
              "---\n",
              "Concordance = 0.89\n",
              "Partial AIC = 121.86\n",
              "log-likelihood ratio test = 22.75 on 8 df\n",
              "-log2(p) of ll-ratio test = 8.08"
            ]
          },
          "metadata": {},
          "output_type": "display_data"
        },
        {
          "data": {
            "image/png": "[encoded data removed]",
            "text/plain": [
              "<Figure size 640x480 with 1 Axes>"
            ]
          },
          "metadata": {},
          "output_type": "display_data"
        }
      ],
      "source": [
        "# Drop missing or non-relevant columns\n",
        "df = df.drop(columns=['id', 'censored', 'eligible'], errors='ignore')\n",
        "\n",
        "# Fit the Cox model\n",
        "cox_model = CoxPHFitter()\n",
        "cox_model.fit(df, duration_col='period', event_col='outcome', robust=True)\n",
        "\n",
        "# Print summary of the model\n",
        "cox_model.print_summary()\n",
        "\n",
        "# Plot the survival function\n",
        "cox_model.plot()\n",
        "plt.title(\"Hazard Ratios (Cox Model)\")\n",
        "plt.show()\n"
      ]
    },
    {
      "cell_type": "markdown",
      "metadata": {
        "id": "QLezRU_sVr50"
      },
      "source": [
        "# Alternative to R predict() function"
      ]
    },
    {
      "cell_type": "code",
      "execution_count": 10,
      "metadata": {
        "colab": {
          "base_uri": "https://localhost:8080/",
          "height": 564
        },
        "id": "oWf4SX9EVtkv",
        "outputId": "9aaef45f-9ded-43aa-d469-3e4421391d85"
      },
      "outputs": [
        {
          "data": {
            "image/png": "[encoded data removed]",
            "text/plain": [
              "<Figure size 800x600 with 1 Axes>"
            ]
          },
          "metadata": {},
          "output_type": "display_data"
        }
      ],
      "source": [
        "# Generate survival predictions\n",
        "predict_times = np.arange(0, 11, 1)  # Predict for time 0 to 10\n",
        "predicted_survival = cox_model.predict_survival_function(df.iloc[:5], times=predict_times)\n",
        "\n",
        "# Plot survival differences over follow-up time\n",
        "plt.figure(figsize=(8, 6))\n",
        "for i in range(predicted_survival.shape[1]):\n",
        "    plt.plot(predict_times, predicted_survival.iloc[:, i], label=f'Patient {i+1}')\n",
        "\n",
        "plt.title('Predicted Survival Over Time')\n",
        "plt.xlabel('Follow-up Time')\n",
        "plt.ylabel('Survival Probability')\n",
        "plt.legend()\n",
        "plt.show()\n"
      ]
    },
    {
      "cell_type": "markdown",
      "metadata": {
        "id": "dUrbXVxPKA9b"
      },
      "source": [
        "# Additional Analysis: Hazard Ratios"
      ]
    },
    {
      "cell_type": "code",
      "execution_count": 11,
      "metadata": {
        "colab": {
          "base_uri": "https://localhost:8080/"
        },
        "id": "1lGanughKDnm",
        "outputId": "a6c3a706-724f-4c88-b2a7-356d551ff6c2"
      },
      "outputs": [
        {
          "name": "stdout",
          "output_type": "stream",
          "text": [
            "Hazard Ratios:\n",
            "covariate\n",
            "treatment    0.096391\n",
            "x1           0.802822\n",
            "x2           1.916257\n",
            "x3           0.942734\n",
            "x4           6.015201\n",
            "age          0.969810\n",
            "ipcw         1.003090\n",
            "iptw         1.011766\n",
            "Name: coef, dtype: float64\n"
          ]
        }
      ],
      "source": [
        "# Extract hazard ratios from Cox model\n",
        "hazard_ratios = np.exp(cox_model.params_)\n",
        "print(\"Hazard Ratios:\")\n",
        "print(hazard_ratios)"
      ]
    },
    {
      "cell_type": "markdown",
      "metadata": {
        "id": "3ywzq-ILKG0Q"
      },
      "source": [
        "- Hazard ratios quantify the relative risk of an event occurring in one group versus another.\n",
        "\n",
        "- A hazard ratio above 1 suggests increased risk, while below 1 suggests reduced risk."
      ]
    },
    {
      "cell_type": "markdown",
      "metadata": {
        "id": "ZKxLeYaYKJbU"
      },
      "source": [
        "# Conclusion"
      ]
    },
    {
      "cell_type": "markdown",
      "metadata": {
        "id": "WXEB6CrFKet3"
      },
      "source": [
        "This project successfully translates an R-based Target Trial Emulation workflow into Python, demonstrating key epidemiological techniques for causal inference using observational data. By leveraging inverse probability weighting, survival modeling, and hazard ratio analysis, we effectively replicate conditions similar to a randomized controlled trial.\n",
        "\n",
        "**Key Takeaways:**\n",
        "\n",
        "- Data Preparation & Weighting: Proper handling of missing data and applying inverse probability weighting (IPCW & IPTW) mitigate biases and improve validity.\n",
        "\n",
        "- Survival Analysis Methods: Kaplan-Meier estimates provide visual insights into survival probabilities, while Cox regression offers statistical interpretation of treatment effects.\n",
        "\n",
        "- Causal Inference Strengthening: The combination of weighting techniques and hazard ratio assessments refines our ability to draw meaningful conclusions about treatment efficacy.\n",
        "\n",
        "**Future Considerations:**\n",
        "\n",
        "- Expanding the analysis to explore potential effect modification across different subgroups.\n",
        "\n",
        "- Integrating machine learning techniques for advanced propensity score modeling.\n",
        "\n",
        "- Investigating the role of time-varying confounders to further improve causal inference accuracy.\n",
        "\n",
        "By following a structured approach and leveraging Python’s robust statistical tools, this study demonstrates how observational data can be transformed into meaningful insights that closely mimic an experimental study design."
      ]
    }
  ],
  "metadata": {
    "colab": {
      "include_colab_link": true,
      "provenance": []
    },
    "kernelspec": {
      "display_name": "Python 3",
      "name": "python3"
    },
    "language_info": {
      "codemirror_mode": {
        "name": "ipython",
        "version": 3
      },
      "file_extension": ".py",
      "mimetype": "text/x-python",
      "name": "python",
      "nbconvert_exporter": "python",
      "pygments_lexer": "ipython3",
      "version": "3.12.3"
    }
  },
  "nbformat": 4,
  "nbformat_minor": 0
}
